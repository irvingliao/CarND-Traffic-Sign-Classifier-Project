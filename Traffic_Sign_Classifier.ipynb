{
 "cells": [
  {
   "cell_type": "markdown",
   "metadata": {},
   "source": [
    "# Self-Driving Car Engineer Nanodegree\n",
    "\n",
    "## Deep Learning\n",
    "\n",
    "## Project: Build a Traffic Sign Recognition Classifier\n",
    "\n",
    "In this notebook, a template is provided for you to implement your functionality in stages, which is required to successfully complete this project. If additional code is required that cannot be included in the notebook, be sure that the Python code is successfully imported and included in your submission if necessary. \n",
    "\n",
    "> **Note**: Once you have completed all of the code implementations, you need to finalize your work by exporting the iPython Notebook as an HTML document. Before exporting the notebook to html, all of the code cells need to have been run so that reviewers can see the final implementation and output. You can then export the notebook by using the menu above and navigating to  \\n\",\n",
    "    \"**File -> Download as -> HTML (.html)**. Include the finished document along with this notebook as your submission. \n",
    "\n",
    "In addition to implementing code, there is a writeup to complete. The writeup should be completed in a separate file, which can be either a markdown file or a pdf document. There is a [write up template](https://github.com/udacity/CarND-Traffic-Sign-Classifier-Project/blob/master/writeup_template.md) that can be used to guide the writing process. Completing the code template and writeup template will cover all of the [rubric points](https://review.udacity.com/#!/rubrics/481/view) for this project.\n",
    "\n",
    "The [rubric](https://review.udacity.com/#!/rubrics/481/view) contains \"Stand Out Suggestions\" for enhancing the project beyond the minimum requirements. The stand out suggestions are optional. If you decide to pursue the \"stand out suggestions\", you can include the code in this Ipython notebook and also discuss the results in the writeup file.\n",
    "\n",
    "\n",
    ">**Note:** Code and Markdown cells can be executed using the **Shift + Enter** keyboard shortcut. In addition, Markdown cells can be edited by typically double-clicking the cell to enter edit mode."
   ]
  },
  {
   "cell_type": "markdown",
   "metadata": {},
   "source": [
    "---\n",
    "## Step 0: Load The Data"
   ]
  },
  {
   "cell_type": "code",
   "execution_count": null,
   "metadata": {},
   "outputs": [],
   "source": [
    "# Load pickled data\n",
    "import pickle\n",
    "\n",
    "# Fill this in based on where you saved the training and testing data\n",
    "def load_data(path):\n",
    "    with open(path, mode='rb') as f:\n",
    "        data = pickle.load(f)\n",
    "    X, y = data['features'], data['labels']\n",
    "    return X, y\n",
    "\n",
    "training_file = 'traffic-signs-data/train.p'\n",
    "validation_file = 'traffic-signs-data/valid.p'\n",
    "testing_file = 'traffic-signs-data/test.p'\n",
    "    \n",
    "X_train, y_train = load_data(training_file)\n",
    "X_valid, y_valid = load_data(validation_file)\n",
    "    X_test, y_test = load_data(testing_file)"
   ]
  },
  {
   "cell_type": "markdown",
   "metadata": {},
   "source": [
    "---\n",
    "\n",
    "## Step 1: Dataset Summary & Exploration\n",
    "\n",
    "The pickled data is a dictionary with 4 key/value pairs:\n",
    "\n",
    "- `'features'` is a 4D array containing raw pixel data of the traffic sign images, (num examples, width, height, channels).\n",
    "- `'labels'` is a 1D array containing the label/class id of the traffic sign. The file `signnames.csv` contains id -> name mappings for each id.\n",
    "- `'sizes'` is a list containing tuples, (width, height) representing the original width and height the image.\n",
    "- `'coords'` is a list containing tuples, (x1, y1, x2, y2) representing coordinates of a bounding box around the sign in the image. **THESE COORDINATES ASSUME THE ORIGINAL IMAGE. THE PICKLED DATA CONTAINS RESIZED VERSIONS (32 by 32) OF THESE IMAGES**\n",
    "\n",
    "Complete the basic data summary below. Use python, numpy and/or pandas methods to calculate the data summary rather than hard coding the results. For example, the [pandas shape method](http://pandas.pydata.org/pandas-docs/stable/generated/pandas.DataFrame.shape.html) might be useful for calculating some of the summary results. "
   ]
  },
  {
   "cell_type": "markdown",
   "metadata": {},
   "source": [
    "### Provide a Basic Summary of the Data Set Using Python, Numpy and/or Pandas"
   ]
  },
  {
   "cell_type": "code",
   "execution_count": null,
   "metadata": {
    "collapsed": true
   },
   "outputs": [],
   "source": [
    "### Replace each question mark with the appropriate value. \n",
    "### Use python, pandas or numpy methods rather than hard coding the results\n",
    "\n",
    "import pandas as pd\n",
    "import numpy as np\n",
    "\n",
    "# Number of training examples\n",
    "n_train = len(X_train)\n",
    "\n",
    "# Number of validation examples\n",
    "n_validation = len(X_valid)\n",
    "\n",
    "# Number of testing examples.\n",
    "n_test = len(X_test)\n",
    "\n",
    "# What's the shape of an traffic sign image?\n",
    "image_shape = X_train[0].shape\n",
    "\n",
    "#  How many unique classes/labels there are in the dataset.\n",
    "\n",
    "print(\"Number of training examples =\", n_train)\n",
    "print(\"Number of validation examples =\", n_validation)\n",
    "print(\"Number of testing examples =\", n_test)\n",
    "print(\"Image data shape =\", image_shape)\n",
    "\n",
    "df = pd.DataFrame({'CLASS': y_train, 'INDEX': range(0, n_train)})\n",
    "n_classes = df['CLASS'].nunique()\n",
    "print(\"Number of train classes =\", n_classes)"
   ]
  },
  {
   "cell_type": "markdown",
   "metadata": {},
   "source": [
    "### Include an exploratory visualization of the dataset"
   ]
  },
  {
   "cell_type": "markdown",
   "metadata": {},
   "source": [
    "Visualize the German Traffic Signs Dataset using the pickled file(s). This is open ended, suggestions include: plotting traffic sign images, plotting the count of each sign, etc. \n",
    "\n",
    "The [Matplotlib](http://matplotlib.org/) [examples](http://matplotlib.org/examples/index.html) and [gallery](http://matplotlib.org/gallery.html) pages are a great resource for doing visualizations in Python.\n",
    "\n",
    "**NOTE:** It's recommended you start with something simple first. If you wish to do more, come back to it after you've completed the rest of the sections. It can be interesting to look at the distribution of classes in the training, validation and test set. Is the distribution the same? Are there more examples of some classes than others?"
   ]
  },
  {
   "cell_type": "code",
   "execution_count": 16,
   "metadata": {
    "collapsed": true
   },
   "outputs": [],
   "source": [
    "### Data exploration visualization code goes here.\n",
    "### Feel free to use as many code cells as needed.\n",
    "import matplotlib.pyplot as plt\n",
    "# Visualizations will be shown in the notebook.\n",
    "get_ipython().run_line_magic('matplotlib', 'inline')\n",
    "\n",
    "# Counts of each class\n",
    "class_counts = df['CLASS'].value_counts().sort_index()\n",
    "class_counts.plot(kind='bar')"
   ]
  },
  {
   "cell_type": "markdown",
   "metadata": {},
   "source": [
    "----\n",
    "\n",
    "## Step 2: Design and Test a Model Architecture\n",
    "\n",
    "Design and implement a deep learning model that learns to recognize traffic signs. Train and test your model on the [German Traffic Sign Dataset](http://benchmark.ini.rub.de/?section=gtsrb&subsection=dataset).\n",
    "\n",
    "The LeNet-5 implementation shown in the [classroom](https://classroom.udacity.com/nanodegrees/nd013/parts/fbf77062-5703-404e-b60c-95b78b2f3f9e/modules/6df7ae49-c61c-4bb2-a23e-6527e69209ec/lessons/601ae704-1035-4287-8b11-e2c2716217ad/concepts/d4aca031-508f-4e0b-b493-e7b706120f81) at the end of the CNN lesson is a solid starting point. You'll have to change the number of classes and possibly the preprocessing, but aside from that it's plug and play! \n",
    "\n",
    "With the LeNet-5 solution from the lecture, you should expect a validation set accuracy of about 0.89. To meet specifications, the validation set accuracy will need to be at least 0.93. It is possible to get an even higher accuracy, but 0.93 is the minimum for a successful project submission. \n",
    "\n",
    "There are various aspects to consider when thinking about this problem:\n",
    "\n",
    "- Neural network architecture (is the network over or underfitting?)\n",
    "- Play around preprocessing techniques (normalization, rgb to grayscale, etc)\n",
    "- Number of examples per label (some have more than others).\n",
    "- Generate fake data.\n",
    "\n",
    "Here is an example of a [published baseline model on this problem](http://yann.lecun.com/exdb/publis/pdf/sermanet-ijcnn-11.pdf). It's not required to be familiar with the approach used in the paper but, it's good practice to try to read papers like these."
   ]
  },
  {
   "cell_type": "markdown",
   "metadata": {},
   "source": [
    "### Pre-process the Data Set (normalization, grayscale, etc.)"
   ]
  },
  {
   "cell_type": "markdown",
   "metadata": {},
   "source": [
    "Minimally, the image data should be normalized so that the data has mean zero and equal variance. For image data, `(pixel - 128)/ 128` is a quick way to approximately normalize the data and can be used in this project. \n",
    "\n",
    "Other pre-processing steps are optional. You can try different techniques to see if it improves performance. \n",
    "\n",
    "Use the code cell (or multiple code cells, if necessary) to implement the first step of your project."
   ]
  },
  {
   "cell_type": "code",
   "execution_count": 4,
   "metadata": {
    "collapsed": true
   },
   "outputs": [],
   "source": [
    "### Preprocess the data here. It is required to normalize the data. Other preprocessing steps could include \n",
    "### converting to grayscale, etc.\n",
    "def show_images(images, cols = 1, titles = None):\n",
    "    \"\"\"Display a list of images in a single figure with matplotlib.\n",
    "    \n",
    "    Parameters\n",
    "    ---------\n",
    "    images: List of np.arrays compatible with plt.imshow.\n",
    "    \n",
    "    cols (Default = 1): Number of columns in figure (number of rows is \n",
    "                        set to np.ceil(n_images/float(cols))).\n",
    "    \n",
    "    titles: List of titles corresponding to each image. Must have\n",
    "            the same length as titles.\n",
    "    \"\"\"\n",
    "    assert((titles is None)or (len(images) == len(titles)))\n",
    "    n_images = len(images)\n",
    "    if titles is None: titles = ['Image (%d)' % i for i in range(1,n_images + 1)]\n",
    "    fig = plt.figure()\n",
    "    plt.subplots_adjust(wspace=0, hspace=0)\n",
    "    for n, (image, title) in enumerate(zip(images, titles)):\n",
    "        a = fig.add_subplot(cols, np.ceil(n_images/float(cols)), n + 1)\n",
    "        if image.ndim == 2:\n",
    "            plt.gray()\n",
    "        plt.axis('off')\n",
    "        a.set_title(title)\n",
    "        plt.imshow(image)\n",
    "    fig.set_size_inches(np.array(fig.get_size_inches()) * n_images)\n",
    "    plt.show()\n",
    "\n",
    "import sys\n",
    "import time\n",
    "\n",
    "def get_time_hhmmss(start = None):\n",
    "    \"\"\"\n",
    "    Calculates time since `start` and formats as a string.\n",
    "    \"\"\"\n",
    "    if start is None:\n",
    "        return time.strftime(\"%Y/%m/%d %H:%M:%S\")\n",
    "    end = time.time()\n",
    "    m, s = divmod(end - start, 60)\n",
    "    h, m = divmod(m, 60)\n",
    "    time_str = \"%02d:%02d:%02d\" % (h, m, s)\n",
    "    return time_str   \n",
    "\n",
    "# Print iterations progress\n",
    "def print_progress(iteration, total):\n",
    "    \"\"\"\n",
    "    Call in a loop to create terminal progress bar\n",
    "    \n",
    "    Parameters\n",
    "    ----------\n",
    "        \n",
    "    iteration : \n",
    "                Current iteration (Int)\n",
    "    total     : \n",
    "                Total iterations (Int)\n",
    "    \"\"\"\n",
    "    str_format = \"{0:.0f}\"\n",
    "    percents = str_format.format(100 * (iteration / float(total)))\n",
    "    filled_length = int(round(100 * iteration / float(total)))\n",
    "    bar = '█' * filled_length + '-' * (100 - filled_length)\n",
    "\n",
    "    sys.stdout.write('\\r |%s| %s%%' % (bar, percents)),\n",
    "\n",
    "    if iteration == total:\n",
    "        sys.stdout.write('\\n')\n",
    "    sys.stdout.flush()"
   ]
  },
  {
   "cell_type": "code",
   "execution_count": null,
   "metadata": {},
   "outputs": [],
   "source": [
    "traffic_signs = df.drop_duplicates(subset='CLASS', keep=\"first\")\n",
    "sorted = traffic_signs.sort_values(by=['CLASS'])\n",
    "sign_idx = sorted['INDEX']\n",
    "sign_images = X_train[sign_idx]\n",
    "titles = y_train[sign_idx]\n",
    "\n",
    "show_images(sign_images, cols=6)"
   ]
  },
  {
   "cell_type": "code",
   "execution_count": null,
   "metadata": {},
   "outputs": [],
   "source": [
    "import cv2\n",
    "from skimage import exposure\n",
    "\n",
    "def normalize(data): \n",
    "    # standardisation\n",
    "    #data = (data-data.mean())/(data.std())\n",
    "\n",
    "    # convert from [0:255] to [0:1]\n",
    "    data = (data - data.min()) / (data.max() - data.min())\n",
    "\n",
    "    # convert from [0:255] to [-1:+1]\n",
    "    #data = ((data / 255)-0.5)*2\n",
    "\n",
    "    return data\n",
    "\n",
    "def equalizeHistYUV(img):\n",
    "    # Apply Histogram equalization for YUV color space to enhance the contract, and minimize the impact of shadows and lights.\n",
    "    img_yuv = cv2.cvtColor(img, cv2.COLOR_BGR2YUV)\n",
    "    gray = img_yuv[:,:,0]\n",
    "    gray = normalize(gray)\n",
    "    img_output = exposure.equalize_adapthist(gray)\n",
    "    img_output = img_output.reshape(img_output.shape + (1,))\n",
    "    return img_output"
   ]
  },
  {
   "cell_type": "code",
   "execution_count": null,
   "metadata": {},
   "outputs": [],
   "source": [
    "pre_process_imgs = np.zeros([sign_images.shape[0], sign_images.shape[1], sign_images.shape[2], 1])\n",
    "for idx in range(len(sign_images)):\n",
    "    origin_img = sign_images[idx]\n",
    "    img_output = equalizeHistYUV(origin_img)\n",
    "    pre_process_imgs[idx] = img_output\n",
    "    print_progress(idx+1, len(sign_images))\n",
    "\n",
    "show_images(pre_process_imgs[:,:,:,0], cols=4)"
   ]
  },
  {
   "cell_type": "markdown",
   "metadata": {},
   "source": [
    "### Data Augmentation\n",
    "The training data amount in initial pickle file is not quite enough to train a model well. It also unbalanced, some classes are have extremly less occurances than others. We could improve this by data augmentation."
   ]
  },
  {
   "cell_type": "code",
   "execution_count": null,
   "metadata": {},
   "outputs": [],
   "source": [
    "import random\n",
    "\n",
    "# Flipping\n",
    "def image_flip(X, y):\n",
    "    flip_horiz = np.array([11, 12, 13, 15, 17, 18, 22, 26, 30, 35])\n",
    "    flip_vert = np.array([1, 5, 12, 15, 17])\n",
    "    flip_both = np.array([32, 40])\n",
    "    cross_flip = np.array([\n",
    "        [19, 20],\n",
    "        [33, 34],\n",
    "        [36, 37],\n",
    "        [38, 39],\n",
    "        [39, 38],\n",
    "        [37, 36],\n",
    "        [34, 33],\n",
    "        [20, 19]\n",
    "    ])\n",
    "    num_classes = 43\n",
    "    \n",
    "    X_extended = np.empty([0, X.shape[1], X.shape[2], X.shape[3]], dtype = X.dtype)\n",
    "    y_extended = np.empty([0], dtype = y.dtype)\n",
    "    \n",
    "    for c in range(num_classes):\n",
    "        X_extended = np.append(X_extended, X[y == c], axis = 0)\n",
    "        if c in flip_horiz:\n",
    "            X_extended = np.append(X_extended, X[y == c][:, :, ::-1, :], axis = 0)\n",
    "        if c in cross_flip[:, 0]:\n",
    "            flip_class = cross_flip[cross_flip[:, 0] == c][0][1]\n",
    "            X_extended = np.append(X_extended, X[y == flip_class][:, :, ::-1, :], axis = 0)\n",
    "        y_extended = np.append(y_extended, np.full((X_extended.shape[0] - y_extended.shape[0]), c, dtype = int))\n",
    "        \n",
    "        if c in flip_vert:\n",
    "            X_extended = np.append(X_extended, X_extended[y_extended == c][:, ::-1, :, :], axis = 0)\n",
    "        y_extended = np.append(y_extended, np.full((X_extended.shape[0] - y_extended.shape[0]), c, dtype = int))\n",
    "        \n",
    "        if c in flip_both:\n",
    "            X_extended = np.append(X_extended, X_extended[y_extended == c][:, ::-1, ::-1, :], axis = 0)\n",
    "        y_extended = np.append(y_extended, np.full((X_extended.shape[0] - y_extended.shape[0]), c, dtype = int))\n",
    "    \n",
    "    return X_extended, y_extended\n",
    "\n",
    "from skimage.transform import rotate\n",
    "from skimage.transform import warp\n",
    "from skimage.transform import ProjectiveTransform\n",
    "\n",
    "# Rotate image randomly\n",
    "def rotation(X, intensity):\n",
    "    for i in range(X.shape[0]):\n",
    "        delta = 30 * intensity\n",
    "        X[i] = rotate(X[i], random.uniform(-delta, delta), mode='edge')\n",
    "    return X  \n",
    "    \n",
    "def projection(X, intensity):\n",
    "    image_size = X.shape[1]\n",
    "    delta = image_size * 0.3 * intensity\n",
    "    for i in range(X.shape[0]):\n",
    "        # Top left corner, top margin\n",
    "        tl_top = random.uniform(-delta, delta)\n",
    "        \n",
    "        # Top left corner, left margin\n",
    "        tl_left = random.uniform(-delta, delta)\n",
    "        \n",
    "        # Bottom left corner, bottom margin  \n",
    "        bl_bottom = random.uniform(-delta, delta)\n",
    "        \n",
    "        # Bottom left corner, left margin\n",
    "        bl_left = random.uniform(-delta, delta)\n",
    "        \n",
    "        # Top right corner, top margin\n",
    "        tr_top = random.uniform(-delta, delta)\n",
    "        \n",
    "        # Top right corner, right margin\n",
    "        tr_right = random.uniform(-delta, delta)\n",
    "        \n",
    "        # Bottom right corner, bottom margin\n",
    "        br_bottom = random.uniform(-delta, delta)\n",
    "        \n",
    "        # Bottom right corner, right margin\n",
    "        br_right = random.uniform(-delta, delta)\n",
    "\n",
    "        transform = ProjectiveTransform()\n",
    "        transform.estimate(np.array((\n",
    "                (tl_left, tl_top),\n",
    "                (bl_left, image_size - bl_bottom),\n",
    "                (image_size - br_right, image_size - br_bottom),\n",
    "                (image_size - tr_right, tr_top)\n",
    "            )), np.array((\n",
    "                (0, 0),\n",
    "                (0, image_size),\n",
    "                (image_size, image_size),\n",
    "                (image_size, 0)\n",
    "            )))\n",
    "        X[i] = warp(X[i], transform, output_shape=(image_size, image_size), order=1, mode='edge')\n",
    "\n",
    "    return X\n",
    "\n",
    "def apply_transform(X, intensity):\n",
    "    X = rotation(X, intensity)\n",
    "    X = projection(X, intensity)\n",
    "    return X \n",
    "\n",
    "def extend_data(X, y, intensity, num_classes, output_count=0):\n",
    "    # We want to have equal amount of data for all classes\n",
    "    # Get the max count among all classes\n",
    "    _, class_counts = np.unique(y, return_counts=True)\n",
    "    max_c = max(class_counts) if output_count==0 else output_count\n",
    "    total = max_c * num_classes if output_count==0  else output_count\n",
    "\n",
    "    X_extended = np.empty([0, X.shape[1], X.shape[2], X.shape[3]], dtype = np.float32)\n",
    "    y_extended = np.empty([0], dtype = y.dtype)\n",
    "\n",
    "    for c, count in zip(range(num_classes), class_counts):\n",
    "        X_source = (X[y == c]/255.).astype(np.float32)\n",
    "        y_source = y[y == c]\n",
    "        X_extended = np.append(X_extended, X_source, axis = 0)\n",
    "        for i in range((max_c // count) - 1):\n",
    "            new_x = apply_transform(X_source, intensity)\n",
    "            X_extended = np.append(X_extended, new_x, axis = 0)\n",
    "            print_progress(X_extended.shape[0], total)\n",
    "        \n",
    "        remain = max_c % count\n",
    "        new_x = apply_transform(X_source[:remain], intensity)\n",
    "        X_extended = np.append(X_extended, new_x, axis = 0)\n",
    "        print_progress(X_extended.shape[0], total)\n",
    "\n",
    "        # Fill labels for added images set to current class.\n",
    "        extend_size = X_extended.shape[0] - y_extended.shape[0]\n",
    "        y_extended = np.append(y_extended, np.full((extend_size), c, dtype = int))\n",
    "\n",
    "    X_extended = (X_extended*255.).astype(np.uint8)\n",
    "    return X_extended, y_extended"
   ]
  },
  {
   "cell_type": "code",
   "execution_count": null,
   "metadata": {},
   "outputs": [],
   "source": [
    "train_balanced_data_file = \"traffic-signs-data/train_balanced.p\"\n",
    "\n",
    "print(\"Number of origin data = \", X_train.shape[0])\n",
    "X_train, y_train = image_flip(X_train, y_train)\n",
    "print(\"After flip = \", X_train.shape[0])\n",
    "X_train, y_train = extend_data(X_train, y_train, 0.8, n_classes)\n",
    "print(\"After extended = \", X_train.shape[0])\n",
    "pickle.dump({\n",
    "    \"features\" : X_train,\n",
    "    \"labels\" : y_train\n",
    "}, open(train_balanced_data_file, \"wb\" ) )"
   ]
  },
  {
   "cell_type": "code",
   "execution_count": null,
   "metadata": {},
   "outputs": [],
   "source": [
    "# Test Augmentation\n",
    "# img1 = sign_images[0]\n",
    "# x1 = np.full([5, img1.shape[0], img1.shape[1], img1.shape[2]], img1)\n",
    "# show_images(x1)\n",
    "# x2 = apply_transform((x1/255.).astype(np.float32), 0.75)\n",
    "# x2 = (x2*255.).astype(np.uint8)\n",
    "# show_images(x2)"
   ]
  },
  {
   "cell_type": "markdown",
   "metadata": {},
   "source": [
    "#### Preprocessing Data"
   ]
  },
  {
   "cell_type": "code",
   "execution_count": null,
   "metadata": {},
   "outputs": [],
   "source": [
    "def preprocessImages(images):\n",
    "    out_imgs = np.zeros([images.shape[0], images.shape[1], images.shape[2], 1])\n",
    "    num = len(images)\n",
    "    for index in range(num):\n",
    "        out_imgs[index] = equalizeHistYUV(images[index])\n",
    "        if index%100 == 0:\n",
    "            print_progress(index+1, num)\n",
    "\n",
    "    return out_imgs.astype(np.float32)"
   ]
  },
  {
   "cell_type": "code",
   "execution_count": null,
   "metadata": {},
   "outputs": [],
   "source": [
    "train_balanced_data_file_preprocessed = \"traffic-signs-data/train_balanced_preprocessed.p\"\n",
    "test_data_file_preprocessed = \"traffic-signs-data/test_preprocessed.p\"\n",
    "valid_data_file_preprocessed = \"traffic-signs-data/valid_preprocessed.p\"\n",
    "\n",
    "X_train = preprocessImages(X_train)\n",
    "\n",
    "n_bytes = 2**31\n",
    "max_bytes = 2**31 - 1\n",
    "\n",
    "bytes_out = pickle.dumps({\n",
    "    \"features\" : X_train,\n",
    "    \"labels\" : y_train\n",
    "})\n",
    "\n",
    "# Save Large data > 2GB\n",
    "with open(train_balanced_data_file_preprocessed, 'wb') as f_out:\n",
    "    for idx in range(0, len(bytes_out), max_bytes):\n",
    "        f_out.write(bytes_out[idx:idx+max_bytes])"
   ]
  },
  {
   "cell_type": "code",
   "execution_count": null,
   "metadata": {},
   "outputs": [],
   "source": [
    "X_valid = preprocessImages(X_valid)\n",
    "pickle.dump({\n",
    "    \"features\" : X_valid,\n",
    "    \"labels\" : y_valid\n",
    "}, open(valid_data_file_preprocessed, \"wb\" ) )\n",
    "\n",
    "X_test = preprocessImages(X_test)\n",
    "pickle.dump({\n",
    "    \"features\" : X_test,\n",
    "    \"labels\" : y_test\n",
    "}, open(test_data_file_preprocessed, \"wb\" ) )"
   ]
  },
  {
   "cell_type": "code",
   "execution_count": null,
   "metadata": {},
   "outputs": [],
   "source": [
    "# import pickle\n",
    "\n",
    "# import os.path\n",
    "# train_balanced_data_file_preprocessed = \"traffic-signs-data/train_balanced_preprocessed.p\"\n",
    "\n",
    "# def load_large_data(path):\n",
    "#     bytes_in = bytearray(0)\n",
    "#     input_size = os.path.getsize(path)\n",
    "#     with open(path, 'rb') as f_in:\n",
    "#         for _ in range(0, input_size, max_bytes):\n",
    "#             bytes_in += f_in.read(max_bytes)\n",
    "#     data = pickle.loads(bytes_in)\n",
    "#     X, y = data['features'], data['labels']\n",
    "#     return X, y\n",
    "\n",
    "# X_train, y_train = load_large_data(train_balanced_data_file_preprocessed)\n",
    "# print(X_train.shape)"
   ]
  },
  {
   "cell_type": "code",
   "execution_count": null,
   "metadata": {},
   "outputs": [],
   "source": [
    "# test_data_file_preprocessed = \"traffic-signs-data/test_preprocessed.p\"\n",
    "# valid_data_file_preprocessed = \"traffic-signs-data/valid_preprocessed.p\"\n",
    "\n",
    "# def load_data(path):\n",
    "#     with open(path, mode='rb') as f:\n",
    "#         data = pickle.load(f)\n",
    "#     X, y = data['features'], data['labels']\n",
    "#     return X, y\n",
    "\n",
    "# X_train, y_train = load_data(train_balanced_data_file_preprocessed)\n",
    "# X_valid, y_valid = load_data(valid_data_file_preprocessed)\n",
    "# X_test, y_test = load_data(test_data_file_preprocessed)"
   ]
  },
  {
   "cell_type": "markdown",
   "metadata": {},
   "source": [
    "### Model Architecture"
   ]
  },
  {
   "cell_type": "code",
   "execution_count": null,
   "metadata": {
    "collapsed": true
   },
   "outputs": [],
   "source": [
    "### Define your architecture here.\n",
    "# Implement the [LeNet-5](http://yann.lecun.com/exdb/lenet/) neural network architecture.\n",
    "import tensorflow as tf\n",
    "from tensorflow.contrib.layers import flatten\n",
    "\n",
    "def conv2d(x, W, b, strides=1):\n",
    "    x = tf.nn.conv2d(x, W, strides=[1, strides, strides, 1], padding='VALID')\n",
    "    x = tf.nn.bias_add(x, b)\n",
    "    # Activation.\n",
    "    return tf.nn.relu(x)\n",
    "\n",
    "def maxpool2d(x, k=2):\n",
    "    return tf.nn.max_pool(x, ksize=[1, k, k, 1], strides=[1, k, k, 1], padding='VALID')\n",
    "\n",
    "def LeNet(x, is_training):\n",
    "    # Arguments used for tf.truncated_normal, randomly defines variables for the weights and biases for each layer\n",
    "    mu = 0\n",
    "    sigma = 0.1\n",
    "    output_size = 43\n",
    "    \n",
    "    # Layer 1: Convolutional. Input = 32x32x1. Output = 28x28x32.\n",
    "    w1 = tf.Variable(tf.truncated_normal(shape=(5, 5, 1, 32), mean = mu, stddev = sigma))\n",
    "    b1 = tf.Variable(tf.zeros(32))\n",
    "    conv1 = conv2d(x, w1, b1)\n",
    "\n",
    "    # Pooling. Input = 28x28x32. Output = 14x14x32.\n",
    "    conv1 = maxpool2d(conv1, k=2)\n",
    "    conv1 = tf.cond(is_training, lambda: tf.nn.dropout(conv1, keep_prob = 0.9), lambda: conv1)\n",
    "\n",
    "    # Layer 2: Convolutional. Output = 10x10x64.\n",
    "    w2 = tf.Variable(tf.truncated_normal(shape=(5, 5, 32, 64), mean = mu, stddev = sigma))\n",
    "    b2 = tf.Variable(tf.zeros(64))\n",
    "    conv2 = conv2d(conv1, w2, b2)\n",
    "\n",
    "    # Pooling. Input = 10x10x64. Output = 5x5x64.\n",
    "    conv2 = maxpool2d(conv2, k=2)\n",
    "    conv2 = tf.cond(is_training, lambda: tf.nn.dropout(conv2, keep_prob = 0.75), lambda: conv2)\n",
    "\n",
    "    # Flatten. Input = 5x5x64. Output = 1600.\n",
    "    fc0 = flatten(conv2)\n",
    "    \n",
    "    # Layer 3: Fully Connected. Input = 1600. Output = 1024.\n",
    "    wd1 = tf.Variable(tf.truncated_normal(shape=(1600, 1024), mean = mu, stddev = sigma))\n",
    "    bd1 = tf.Variable(tf.zeros(1024))\n",
    "    fc1 = tf.matmul(fc0, wd1) + bd1\n",
    "    \n",
    "    # Activation.\n",
    "    fc1 = tf.nn.relu(fc1)\n",
    "\n",
    "    # Layer 4: Fully Connected. Input = 1024. Output = 512.\n",
    "    wd2 = tf.Variable(tf.truncated_normal(shape=(1024, 512), mean = mu, stddev = sigma))\n",
    "    bd2 = tf.Variable(tf.zeros(512))\n",
    "    fc2 = tf.matmul(fc1, wd2) + bd2\n",
    "    \n",
    "    # Activation.\n",
    "    fc2 = tf.nn.relu(fc2)\n",
    "    fc2 = tf.cond(is_training, lambda: tf.nn.dropout(fc2, keep_prob = 0.5), lambda: fc2)\n",
    "\n",
    "    # Layer 5: Fully Connected. Input = 512. Output = 43.\n",
    "    wd3 = tf.Variable(tf.truncated_normal(shape=(512, output_size), mean = mu, stddev = sigma))\n",
    "    bd3 = tf.Variable(tf.zeros(output_size))\n",
    "    logits = tf.matmul(fc2, wd3) + bd3\n",
    "    weights = [wd1,wd2,wd3]\n",
    "    \n",
    "    return logits, weights"
   ]
  },
  {
   "cell_type": "markdown",
   "metadata": {},
   "source": [
    "### Train, Validate and Test the Model"
   ]
  },
  {
   "cell_type": "markdown",
   "metadata": {},
   "source": [
    "A validation set can be used to assess how well the model is performing. A low accuracy on the training and validation\n",
    "sets imply underfitting. A high accuracy on the training set but low accuracy on the validation set implies overfitting."
   ]
  },
  {
   "cell_type": "code",
   "execution_count": 1,
   "metadata": {
    "collapsed": true
   },
   "outputs": [],
   "source": [
    "### Train your model here.\n",
    "### Calculate and report the accuracy on the training and validation set.\n",
    "### Once a final model architecture is selected, \n",
    "### the accuracy on the test set should be calculated and reported as well.\n",
    "from sklearn.utils import shuffle\n",
    "\n",
    "save_file = './lenet'\n",
    "EPOCHS = 100\n",
    "BATCH_SIZE = 256\n",
    "\n",
    "x = tf.placeholder(tf.float32, (None, 32, 32, 1))\n",
    "y = tf.placeholder(tf.int32, (None))\n",
    "is_training = tf.placeholder(tf.bool)\n",
    "one_hot_y = tf.one_hot(y, 43)\n",
    "\n",
    "rate = 0.001\n",
    "\n",
    "logits, weights = LeNet(x, is_training)\n",
    "cross_entropy = tf.nn.softmax_cross_entropy_with_logits(labels=one_hot_y, logits=logits)\n",
    "\n",
    "# L2 Regularization \n",
    "regularization = 0.0\n",
    "for w in weights:\n",
    "    regularization += tf.nn.l2_loss(w)\n",
    "\n",
    "#http://docs.aws.amazon.com/machine-learning/latest/dg/training-parameters.html\n",
    "L2_rate = 1e-4\n",
    "\n",
    "loss_operation = tf.reduce_mean(cross_entropy) + L2_rate*regularization\n",
    "optimizer = tf.train.AdamOptimizer(learning_rate = rate)\n",
    "training_operation = optimizer.minimize(loss_operation)\n",
    "\n",
    "correct_prediction = tf.equal(tf.argmax(logits, 1), tf.argmax(one_hot_y, 1))\n",
    "accuracy_operation = tf.reduce_mean(tf.cast(correct_prediction, tf.float32))\n",
    "saver = tf.train.Saver()\n",
    "\n",
    "def evaluate(X_data, y_data):\n",
    "    num_examples = len(X_data)\n",
    "    total_accuracy = 0\n",
    "    sess = tf.get_default_session()\n",
    "    for offset in range(0, num_examples, BATCH_SIZE):\n",
    "        batch_x, batch_y = X_data[offset:offset+BATCH_SIZE], y_data[offset:offset+BATCH_SIZE]\n",
    "        accuracy = sess.run(accuracy_operation, feed_dict={x: batch_x, y: batch_y, is_training: False})\n",
    "        total_accuracy += (accuracy * len(batch_x))\n",
    "    return total_accuracy / num_examples"
   ]
  },
  {
   "cell_type": "code",
   "execution_count": null,
   "metadata": {},
   "outputs": [],
   "source": [
    "with tf.Session() as sess:\n",
    "    sess.run(tf.global_variables_initializer())\n",
    "    num_examples = len(X_train)\n",
    "    \n",
    "    print(\"Training...\")\n",
    "    print()\n",
    "    for i in range(EPOCHS):\n",
    "        X_train, y_train = shuffle(X_train, y_train)\n",
    "        for offset in range(0, num_examples, BATCH_SIZE):\n",
    "            end = offset + BATCH_SIZE\n",
    "            batch_x, batch_y = X_train[offset:end], y_train[offset:end]\n",
    "            sess.run(training_operation, feed_dict={x: batch_x, y: batch_y, is_training: True})\n",
    "            \n",
    "        validation_accuracy = evaluate(X_valid, y_valid)\n",
    "        print(\"EPOCH {} ...\".format(i+1))\n",
    "        print(\"Validation Accuracy = {:.3f}\".format(validation_accuracy))\n",
    "        print()\n",
    "        \n",
    "    saver.save(sess, save_file)\n",
    "    print(\"Model saved\")"
   ]
  },
  {
   "cell_type": "markdown",
   "metadata": {},
   "source": [
    "### Using Test data to get Model Accuracy"
   ]
  },
  {
   "cell_type": "code",
   "execution_count": null,
   "metadata": {},
   "outputs": [],
   "source": [
    "saver = tf.train.Saver()\n",
    "with tf.Session() as sess:\n",
    "    saver.restore(sess, tf.train.latest_checkpoint('.'))\n",
    "\n",
    "    test_accuracy = evaluate(X_test, y_test)\n",
    "    print(\"Test Accuracy = {:.3f}\".format(test_accuracy))"
   ]
  },
  {
   "cell_type": "markdown",
   "metadata": {},
   "source": [
    "---\n",
    "\n",
    "## Step 3: Test a Model on New Images\n",
    "\n",
    "To give yourself more insight into how your model is working, download at least five pictures of German traffic signs from the web and use your model to predict the traffic sign type.\n",
    "\n",
    "You may find `signnames.csv` useful as it contains mappings from the class id (integer) to the actual sign name."
   ]
  },
  {
   "cell_type": "markdown",
   "metadata": {},
   "source": [
    "### Load and Output the Images"
   ]
  },
  {
   "cell_type": "code",
   "execution_count": null,
   "metadata": {
    "collapsed": true
   },
   "outputs": [],
   "source": [
    "### Load the images and plot them here.\n",
    "import matplotlib.image as im\n",
    "from pandas.io.parsers import read_csv\n",
    "\n",
    "sign_names = read_csv(\"signnames.csv\").values[:, 1]\n",
    "X_new = np.empty([0, 32, 32, 3], dtype=np.uint8)\n",
    "for i in range(8):\n",
    "    path = 'traffic-signs-data/new/' + \"{0:0>3}\".format(i) + '.png'\n",
    "    image = im.imread(path)\n",
    "    image = (image * 255).round().astype(np.uint8)\n",
    "    X_new = np.append(X_new, [image[:,:,:3]], axis = 0)\n",
    "\n",
    "show_images(X_new)\n",
    "y_new = np.array([34,40,17,39,28,13,28,24])"
   ]
  },
  {
   "cell_type": "markdown",
   "metadata": {},
   "source": [
    "#### Preprocessing the images"
   ]
  },
  {
   "cell_type": "code",
   "execution_count": null,
   "metadata": {},
   "outputs": [],
   "source": [
    "X_new_preproccessed = preprocessImages(X_new)\n",
    "show_images(X_new_preproccessed[:,:,:,0])"
   ]
  },
  {
   "cell_type": "markdown",
   "metadata": {},
   "source": [
    "### Predict the Sign Type for Each Image"
   ]
  },
  {
   "cell_type": "code",
   "execution_count": 3,
   "metadata": {
    "collapsed": true
   },
   "outputs": [],
   "source": [
    "### Run the predictions here and use the model to output the prediction for each image.\n",
    "### Make sure to pre-process the images with the same pre-processing pipeline used earlier.\n",
    "# Predict the Top 5 result \n",
    "def prediction(X_input, y_input, k):\n",
    "    x = tf.placeholder(tf.float32, (None, 32, 32, 1))\n",
    "    y = tf.placeholder(tf.int32, (None))\n",
    "    is_training = tf.placeholder(tf.bool)\n",
    "\n",
    "    logits, _ = LeNet(x, is_training)\n",
    "    predictions = tf.nn.softmax(logits)\n",
    "    top_5 = tf.nn.top_k(predictions, k)\n",
    "\n",
    "    saver = tf.train.Saver()\n",
    "\n",
    "    with tf.Session() as sess:\n",
    "        sess.run(tf.global_variables_initializer())\n",
    "        saver.restore(sess, tf.train.latest_checkpoint('.'))\n",
    "\n",
    "        values, indices = sess.run(top_5, feed_dict={x: X_input, y: y_input, is_training: False})\n",
    "        return values, indices"
   ]
  },
  {
   "cell_type": "code",
   "execution_count": null,
   "metadata": {},
   "outputs": [],
   "source": [
    "ps, idx = prediction(X_new_preproccessed, y_new, k=5)\n",
    "print(ps)\n",
    "print(idx)"
   ]
  },
  {
   "cell_type": "code",
   "execution_count": null,
   "metadata": {},
   "outputs": [],
   "source": [
    "correct_count = 0\n",
    "for i in range(len(X_new)):\n",
    "    show_images([X_new[i], X_new_preproccessed[i,:,:,0]])\n",
    "    print(\"Actual class: \", sign_names[y_new[i]])\n",
    "    print(\"\\nPrediction: \")\n",
    "    p = ps[i]\n",
    "    c = idx[i]\n",
    "    for j in range(len(p)):\n",
    "        text = f\"Class {c[j]} \" + sign_names[c[j]] + f\" : {p[j]*100:.2f}%\"\n",
    "        print(text)\n",
    "    print(\"---------------------------------------------------------\")\n",
    "    \n",
    "    if y_new[i]==c[0]:\n",
    "        correct_count += 1"
   ]
  },
  {
   "cell_type": "markdown",
   "metadata": {},
   "source": [
    "### Analyze Performance"
   ]
  },
  {
   "cell_type": "code",
   "execution_count": 4,
   "metadata": {
    "collapsed": true
   },
   "outputs": [],
   "source": [
    "### Calculate the accuracy for these 5 new images. \n",
    "### For example, if the model predicted 1 out of 5 signs correctly, it's 20% accurate on these new images.\n",
    "total_num = len(idx)\n",
    "accuracy = 100.0 * (correct_count/total_num)\n",
    "print(\"Accuracy on new images: {:.2f}%\".format(accuracy))"
   ]
  },
  {
   "cell_type": "markdown",
   "metadata": {},
   "source": [
    "### Project Writeup\n",
    "\n",
    "Here's my [Writeup](https://github.com/irvingliao/CarND-Traffic-Sign-Classifier-Project/blob/master/writeup.md)\n",
    "\n",
    "And here's the exported [HTML](https://github.com/irvingliao/CarND-Traffic-Sign-Classifier-Project/blob/master/Traffic_Sign_Classifier.html)"
   ]
  }
 ],
 "metadata": {
  "anaconda-cloud": {},
  "kernelspec": {
   "display_name": "Python 3",
   "language": "python",
   "name": "python3"
  },
  "language_info": {
   "codemirror_mode": {
    "name": "ipython",
    "version": 3
   },
   "file_extension": ".py",
   "mimetype": "text/x-python",
   "name": "python",
   "nbconvert_exporter": "python",
   "pygments_lexer": "ipython3",
   "version": "3.6.7"
  }
 },
 "nbformat": 4,
 "nbformat_minor": 1
}
